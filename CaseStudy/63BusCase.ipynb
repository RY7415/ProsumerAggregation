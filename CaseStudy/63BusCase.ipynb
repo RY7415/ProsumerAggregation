{
 "cells": [
  {
   "cell_type": "markdown",
   "id": "a798200d-df58-40d3-b9a7-22a20c148166",
   "metadata": {},
   "source": [
    "# Assessing the network constraint with EV injection "
   ]
  },
  {
   "cell_type": "markdown",
   "id": "5ded001c-f3b6-4da7-beee-7843cc12c5c9",
   "metadata": {},
   "source": [
    "### The network capacity with EV trading result "
   ]
  },
  {
   "cell_type": "code",
   "execution_count": 1,
   "id": "36812a97-4ef9-453c-8a15-f8b8bbe62618",
   "metadata": {},
   "outputs": [],
   "source": [
    "import pandapower as pp\n",
    "import numpy as np\n",
    "import pandas as pd\n",
    "import simbench as sb\n",
    "import os "
   ]
  },
  {
   "cell_type": "markdown",
   "id": "44434823-9ea4-4dd5-912a-6e76b5cab9fe",
   "metadata": {},
   "source": [
    "#### Load the modified network data "
   ]
  },
  {
   "cell_type": "code",
   "execution_count": 2,
   "id": "e8944128-6ea3-42c3-83ba-cae33b00ce0f",
   "metadata": {},
   "outputs": [],
   "source": [
    "# get the modified network data \n",
    "net=pp.from_excel ('LV_63_Bus.xlsx')"
   ]
  },
  {
   "cell_type": "code",
   "execution_count": 3,
   "id": "7ae9920a-f92c-4805-81f2-7e978583ac3a",
   "metadata": {},
   "outputs": [
    {
     "data": {
      "text/plain": [
       "This pandapower network includes the following parameter tables:\n",
       "   - bus (63 elements)\n",
       "   - load (111 elements)\n",
       "   - sgen (5 elements)\n",
       "   - ext_grid (3 elements)\n",
       "   - line (71 elements)\n",
       "   - trafo (3 elements)\n",
       "   - bus_geodata (63 elements)\n",
       "   - loadcases (6 elements)"
      ]
     },
     "execution_count": 3,
     "metadata": {},
     "output_type": "execute_result"
    }
   ],
   "source": [
    "net"
   ]
  },
  {
   "cell_type": "markdown",
   "id": "2fe23320-5fad-4cf7-9229-b33af2209633",
   "metadata": {},
   "source": [
    "#### Load trading matrix "
   ]
  },
  {
   "cell_type": "code",
   "execution_count": 4,
   "id": "de18c23f-db15-492d-819f-8ae40927a4b3",
   "metadata": {},
   "outputs": [],
   "source": [
    "\n",
    "Trad = np.load('trading_matrix.npy')"
   ]
  },
  {
   "cell_type": "code",
   "execution_count": 6,
   "id": "f58df488-b253-404e-b03c-05808b097dc0",
   "metadata": {},
   "outputs": [
    {
     "data": {
      "text/plain": [
       "array([6.79902313, 2.79931339, 0.89635798, 1.88103081, 6.7835788 ,\n",
       "       1.82759751, 0.8315542 , 6.89314635, 4.85451682, 1.88903147,\n",
       "       0.84937616, 2.87931711, 0.89424888, 4.82104238, 0.89051561,\n",
       "       2.81938569, 0.        , 0.        , 0.85641789, 0.91902663,\n",
       "       6.86376498, 0.        , 5.85302011, 0.90126513, 2.84722773,\n",
       "       2.809465  , 5.81140901, 0.        , 6.8020395 , 2.81314023,\n",
       "       0.        , 0.8882657 , 0.        , 0.        , 0.        ,\n",
       "       4.81932357, 1.83134468, 2.85650246, 0.        , 3.86611852,\n",
       "       0.85188322, 3.82840293, 4.86561529, 1.8493915 , 3.81673732,\n",
       "       5.81953367, 0.        , 1.86382525, 3.81175323, 2.84766333,\n",
       "       0.8348329 , 0.        , 1.84141661, 2.86357624, 1.82930822,\n",
       "       0.89185092, 4.84766751, 0.        , 1.83234094, 1.83330637,\n",
       "       1.84703949, 2.85080474, 6.87457646, 0.        , 3.86648658,\n",
       "       5.79481319, 4.77189623, 0.        ])"
      ]
     },
     "execution_count": 6,
     "metadata": {},
     "output_type": "execute_result"
    }
   ],
   "source": [
    "sum = np.sum(Trad, axis = 0)\n",
    "sum "
   ]
  },
  {
   "cell_type": "code",
   "execution_count": 7,
   "id": "2a146a0d-c230-4127-a6af-cfc81e088230",
   "metadata": {},
   "outputs": [
    {
     "data": {
      "text/plain": [
       "array([6.79902313, 2.79931339, 0.89635798, 1.88103081, 6.7835788 ,\n",
       "       1.82759751, 0.8315542 , 6.89314635, 4.85451682, 1.88903147,\n",
       "       0.84937616, 2.87931711, 0.89424888, 4.82104238, 0.89051561,\n",
       "       2.81938569, 0.        , 0.        , 0.85641789, 0.91902663,\n",
       "       6.86376498, 0.        , 5.85302011, 0.90126513, 2.84722773,\n",
       "       2.809465  , 5.81140901, 0.        , 6.8020395 , 2.81314023,\n",
       "       0.        , 0.8882657 , 0.        , 0.        , 0.        ,\n",
       "       4.81932357, 1.83134468, 2.85650246, 0.        , 3.86611852,\n",
       "       0.85188322, 3.82840293, 4.86561529, 1.8493915 , 3.81673732,\n",
       "       5.81953367, 0.        , 1.86382525, 3.81175323, 2.84766333,\n",
       "       0.8348329 , 0.        , 1.84141661, 2.86357624, 1.82930822,\n",
       "       0.89185092, 4.84766751])"
      ]
     },
     "execution_count": 7,
     "metadata": {},
     "output_type": "execute_result"
    }
   ],
   "source": [
    "substract = sum [0:57]\n",
    "substract"
   ]
  },
  {
   "cell_type": "markdown",
   "id": "72dd19f5-819b-4cb9-b8d0-e56b1c77cb9b",
   "metadata": {},
   "source": [
    "#### EV battery discharge injection \n",
    "Treat the EV discharge as static generators with active power "
   ]
  },
  {
   "cell_type": "code",
   "execution_count": 34,
   "id": "b9aefd7d-7aa7-4c42-90de-8aa0b4713353",
   "metadata": {},
   "outputs": [],
   "source": [
    "# create static generators \n",
    "i = 0\n",
    "while i <57: \n",
    "    bus_idx = i \n",
    "    DisPower = substract[i]/1000\n",
    "    pp.create_sgen(net, bus = bus_idx, p_mw = DisPower,  )\n",
    "    i += 1\n",
    "    "
   ]
  },
  {
   "cell_type": "code",
   "execution_count": 9,
   "id": "27691471-0381-49e2-8589-2063ba45440e",
   "metadata": {},
   "outputs": [
    {
     "data": {
      "text/plain": [
       "This pandapower network includes the following parameter tables:\n",
       "   - bus (63 elements)\n",
       "   - load (111 elements)\n",
       "   - sgen (62 elements)\n",
       "   - ext_grid (3 elements)\n",
       "   - line (71 elements)\n",
       "   - trafo (3 elements)\n",
       "   - bus_geodata (63 elements)\n",
       "   - loadcases (6 elements)"
      ]
     },
     "execution_count": 9,
     "metadata": {},
     "output_type": "execute_result"
    }
   ],
   "source": [
    "net"
   ]
  },
  {
   "cell_type": "markdown",
   "id": "85ae0969-767a-44a3-bbdc-fcf9c5e1c3f5",
   "metadata": {},
   "source": [
    "####  Power flow analysis \n",
    "Run the power flow calculation to assess the network constraints "
   ]
  },
  {
   "cell_type": "code",
   "execution_count": 33,
   "id": "2fc2acb8-3b73-459f-aec0-6b9b8af98431",
   "metadata": {},
   "outputs": [],
   "source": [
    "pp.runpp(net)"
   ]
  },
  {
   "cell_type": "code",
   "execution_count": 13,
   "id": "88c5ed8b-7c48-4109-abf9-cd47b0b0d93a",
   "metadata": {},
   "outputs": [
    {
     "data": {
      "text/html": [
       "<div>\n",
       "<style scoped>\n",
       "    .dataframe tbody tr th:only-of-type {\n",
       "        vertical-align: middle;\n",
       "    }\n",
       "\n",
       "    .dataframe tbody tr th {\n",
       "        vertical-align: top;\n",
       "    }\n",
       "\n",
       "    .dataframe thead th {\n",
       "        text-align: right;\n",
       "    }\n",
       "</style>\n",
       "<table border=\"1\" class=\"dataframe\">\n",
       "  <thead>\n",
       "    <tr style=\"text-align: right;\">\n",
       "      <th></th>\n",
       "      <th>vm_pu</th>\n",
       "      <th>va_degree</th>\n",
       "      <th>p_mw</th>\n",
       "      <th>q_mvar</th>\n",
       "    </tr>\n",
       "  </thead>\n",
       "  <tbody>\n",
       "    <tr>\n",
       "      <th>0</th>\n",
       "      <td>1.018246</td>\n",
       "      <td>-0.365217</td>\n",
       "      <td>-0.006799</td>\n",
       "      <td>-0.000000</td>\n",
       "    </tr>\n",
       "    <tr>\n",
       "      <th>1</th>\n",
       "      <td>1.008075</td>\n",
       "      <td>-0.410848</td>\n",
       "      <td>0.008201</td>\n",
       "      <td>0.004348</td>\n",
       "    </tr>\n",
       "    <tr>\n",
       "      <th>2</th>\n",
       "      <td>1.010591</td>\n",
       "      <td>-0.400160</td>\n",
       "      <td>0.010104</td>\n",
       "      <td>0.004347</td>\n",
       "    </tr>\n",
       "    <tr>\n",
       "      <th>3</th>\n",
       "      <td>1.013807</td>\n",
       "      <td>-0.384896</td>\n",
       "      <td>0.006119</td>\n",
       "      <td>0.003162</td>\n",
       "    </tr>\n",
       "    <tr>\n",
       "      <th>4</th>\n",
       "      <td>1.018132</td>\n",
       "      <td>-0.364169</td>\n",
       "      <td>-0.002784</td>\n",
       "      <td>0.001581</td>\n",
       "    </tr>\n",
       "    <tr>\n",
       "      <th>...</th>\n",
       "      <td>...</td>\n",
       "      <td>...</td>\n",
       "      <td>...</td>\n",
       "      <td>...</td>\n",
       "    </tr>\n",
       "    <tr>\n",
       "      <th>174</th>\n",
       "      <td>1.025000</td>\n",
       "      <td>0.000000</td>\n",
       "      <td>-0.082854</td>\n",
       "      <td>-0.058949</td>\n",
       "    </tr>\n",
       "    <tr>\n",
       "      <th>175</th>\n",
       "      <td>1.018191</td>\n",
       "      <td>-0.365872</td>\n",
       "      <td>0.000000</td>\n",
       "      <td>0.000000</td>\n",
       "    </tr>\n",
       "    <tr>\n",
       "      <th>176</th>\n",
       "      <td>1.018191</td>\n",
       "      <td>-0.365872</td>\n",
       "      <td>0.000000</td>\n",
       "      <td>0.000000</td>\n",
       "    </tr>\n",
       "    <tr>\n",
       "      <th>177</th>\n",
       "      <td>1.025000</td>\n",
       "      <td>0.000000</td>\n",
       "      <td>-0.083081</td>\n",
       "      <td>-0.059507</td>\n",
       "    </tr>\n",
       "    <tr>\n",
       "      <th>178</th>\n",
       "      <td>1.025000</td>\n",
       "      <td>0.000000</td>\n",
       "      <td>-0.083081</td>\n",
       "      <td>-0.059507</td>\n",
       "    </tr>\n",
       "  </tbody>\n",
       "</table>\n",
       "<p>63 rows × 4 columns</p>\n",
       "</div>"
      ],
      "text/plain": [
       "        vm_pu  va_degree      p_mw    q_mvar\n",
       "0    1.018246  -0.365217 -0.006799 -0.000000\n",
       "1    1.008075  -0.410848  0.008201  0.004348\n",
       "2    1.010591  -0.400160  0.010104  0.004347\n",
       "3    1.013807  -0.384896  0.006119  0.003162\n",
       "4    1.018132  -0.364169 -0.002784  0.001581\n",
       "..        ...        ...       ...       ...\n",
       "174  1.025000   0.000000 -0.082854 -0.058949\n",
       "175  1.018191  -0.365872  0.000000  0.000000\n",
       "176  1.018191  -0.365872  0.000000  0.000000\n",
       "177  1.025000   0.000000 -0.083081 -0.059507\n",
       "178  1.025000   0.000000 -0.083081 -0.059507\n",
       "\n",
       "[63 rows x 4 columns]"
      ]
     },
     "execution_count": 13,
     "metadata": {},
     "output_type": "execute_result"
    }
   ],
   "source": [
    "net.res_bus"
   ]
  },
  {
   "cell_type": "code",
   "execution_count": 37,
   "id": "67e93b7e-0fc3-4076-83fe-01ae940b77f5",
   "metadata": {},
   "outputs": [
    {
     "data": {
      "text/html": [
       "<div>\n",
       "<style scoped>\n",
       "    .dataframe tbody tr th:only-of-type {\n",
       "        vertical-align: middle;\n",
       "    }\n",
       "\n",
       "    .dataframe tbody tr th {\n",
       "        vertical-align: top;\n",
       "    }\n",
       "\n",
       "    .dataframe thead th {\n",
       "        text-align: right;\n",
       "    }\n",
       "</style>\n",
       "<table border=\"1\" class=\"dataframe\">\n",
       "  <thead>\n",
       "    <tr style=\"text-align: right;\">\n",
       "      <th></th>\n",
       "      <th>p_from_mw</th>\n",
       "      <th>q_from_mvar</th>\n",
       "      <th>p_to_mw</th>\n",
       "      <th>q_to_mvar</th>\n",
       "      <th>pl_mw</th>\n",
       "      <th>ql_mvar</th>\n",
       "      <th>i_from_ka</th>\n",
       "      <th>i_to_ka</th>\n",
       "      <th>i_ka</th>\n",
       "      <th>vm_from_pu</th>\n",
       "      <th>va_from_degree</th>\n",
       "      <th>vm_to_pu</th>\n",
       "      <th>va_to_degree</th>\n",
       "      <th>loading_percent</th>\n",
       "    </tr>\n",
       "  </thead>\n",
       "  <tbody>\n",
       "    <tr>\n",
       "      <th>0</th>\n",
       "      <td>0.022107</td>\n",
       "      <td>0.017093</td>\n",
       "      <td>-0.022095</td>\n",
       "      <td>-0.017086</td>\n",
       "      <td>1.206629e-05</td>\n",
       "      <td>6.679499e-06</td>\n",
       "      <td>0.039578</td>\n",
       "      <td>0.039579</td>\n",
       "      <td>0.039579</td>\n",
       "      <td>1.019097</td>\n",
       "      <td>-0.120611</td>\n",
       "      <td>1.018580</td>\n",
       "      <td>-0.117803</td>\n",
       "      <td>11.086577</td>\n",
       "    </tr>\n",
       "    <tr>\n",
       "      <th>1</th>\n",
       "      <td>0.036748</td>\n",
       "      <td>0.028088</td>\n",
       "      <td>-0.036723</td>\n",
       "      <td>-0.028073</td>\n",
       "      <td>2.434135e-05</td>\n",
       "      <td>1.466829e-05</td>\n",
       "      <td>0.065884</td>\n",
       "      <td>0.065884</td>\n",
       "      <td>0.065884</td>\n",
       "      <td>1.013308</td>\n",
       "      <td>-0.090206</td>\n",
       "      <td>1.012681</td>\n",
       "      <td>-0.086981</td>\n",
       "      <td>18.454933</td>\n",
       "    </tr>\n",
       "    <tr>\n",
       "      <th>2</th>\n",
       "      <td>-0.004878</td>\n",
       "      <td>0.008694</td>\n",
       "      <td>0.004878</td>\n",
       "      <td>-0.008694</td>\n",
       "      <td>1.639111e-08</td>\n",
       "      <td>5.014227e-10</td>\n",
       "      <td>0.014120</td>\n",
       "      <td>0.014120</td>\n",
       "      <td>0.014120</td>\n",
       "      <td>1.019032</td>\n",
       "      <td>-0.118049</td>\n",
       "      <td>1.019032</td>\n",
       "      <td>-0.117937</td>\n",
       "      <td>3.955224</td>\n",
       "    </tr>\n",
       "    <tr>\n",
       "      <th>3</th>\n",
       "      <td>0.021635</td>\n",
       "      <td>0.043959</td>\n",
       "      <td>-0.021564</td>\n",
       "      <td>-0.043917</td>\n",
       "      <td>7.061590e-05</td>\n",
       "      <td>4.274408e-05</td>\n",
       "      <td>0.069586</td>\n",
       "      <td>0.069588</td>\n",
       "      <td>0.069588</td>\n",
       "      <td>1.016262</td>\n",
       "      <td>-0.018520</td>\n",
       "      <td>1.014788</td>\n",
       "      <td>0.032681</td>\n",
       "      <td>19.492533</td>\n",
       "    </tr>\n",
       "    <tr>\n",
       "      <th>4</th>\n",
       "      <td>0.024742</td>\n",
       "      <td>0.052681</td>\n",
       "      <td>-0.024742</td>\n",
       "      <td>-0.052680</td>\n",
       "      <td>5.896649e-07</td>\n",
       "      <td>3.610881e-07</td>\n",
       "      <td>0.082598</td>\n",
       "      <td>0.082598</td>\n",
       "      <td>0.082598</td>\n",
       "      <td>1.017062</td>\n",
       "      <td>-0.045050</td>\n",
       "      <td>1.017052</td>\n",
       "      <td>-0.044680</td>\n",
       "      <td>23.136610</td>\n",
       "    </tr>\n",
       "    <tr>\n",
       "      <th>...</th>\n",
       "      <td>...</td>\n",
       "      <td>...</td>\n",
       "      <td>...</td>\n",
       "      <td>...</td>\n",
       "      <td>...</td>\n",
       "      <td>...</td>\n",
       "      <td>...</td>\n",
       "      <td>...</td>\n",
       "      <td>...</td>\n",
       "      <td>...</td>\n",
       "      <td>...</td>\n",
       "      <td>...</td>\n",
       "      <td>...</td>\n",
       "      <td>...</td>\n",
       "    </tr>\n",
       "    <tr>\n",
       "      <th>66</th>\n",
       "      <td>0.002210</td>\n",
       "      <td>-0.008826</td>\n",
       "      <td>-0.002208</td>\n",
       "      <td>0.008826</td>\n",
       "      <td>1.262425e-06</td>\n",
       "      <td>-1.131129e-07</td>\n",
       "      <td>0.012887</td>\n",
       "      <td>0.012886</td>\n",
       "      <td>0.012887</td>\n",
       "      <td>1.018988</td>\n",
       "      <td>-0.112445</td>\n",
       "      <td>1.019040</td>\n",
       "      <td>-0.121373</td>\n",
       "      <td>3.609871</td>\n",
       "    </tr>\n",
       "    <tr>\n",
       "      <th>67</th>\n",
       "      <td>-0.009403</td>\n",
       "      <td>-0.020625</td>\n",
       "      <td>0.009411</td>\n",
       "      <td>0.020629</td>\n",
       "      <td>7.841306e-06</td>\n",
       "      <td>4.030573e-06</td>\n",
       "      <td>0.032117</td>\n",
       "      <td>0.032116</td>\n",
       "      <td>0.032117</td>\n",
       "      <td>1.018692</td>\n",
       "      <td>-0.108521</td>\n",
       "      <td>1.019040</td>\n",
       "      <td>-0.121373</td>\n",
       "      <td>8.996425</td>\n",
       "    </tr>\n",
       "    <tr>\n",
       "      <th>68</th>\n",
       "      <td>-0.005380</td>\n",
       "      <td>-0.005790</td>\n",
       "      <td>0.005380</td>\n",
       "      <td>0.005789</td>\n",
       "      <td>9.527625e-07</td>\n",
       "      <td>-3.080618e-07</td>\n",
       "      <td>0.011196</td>\n",
       "      <td>0.011195</td>\n",
       "      <td>0.011196</td>\n",
       "      <td>1.018899</td>\n",
       "      <td>-0.119275</td>\n",
       "      <td>1.019040</td>\n",
       "      <td>-0.121373</td>\n",
       "      <td>3.136017</td>\n",
       "    </tr>\n",
       "    <tr>\n",
       "      <th>69</th>\n",
       "      <td>-0.004058</td>\n",
       "      <td>-0.002559</td>\n",
       "      <td>0.004059</td>\n",
       "      <td>0.002558</td>\n",
       "      <td>3.510629e-07</td>\n",
       "      <td>-6.870627e-07</td>\n",
       "      <td>0.006796</td>\n",
       "      <td>0.006795</td>\n",
       "      <td>0.006796</td>\n",
       "      <td>1.018952</td>\n",
       "      <td>-0.121371</td>\n",
       "      <td>1.019040</td>\n",
       "      <td>-0.121373</td>\n",
       "      <td>1.903629</td>\n",
       "    </tr>\n",
       "    <tr>\n",
       "      <th>70</th>\n",
       "      <td>0.001016</td>\n",
       "      <td>-0.001408</td>\n",
       "      <td>-0.001016</td>\n",
       "      <td>0.001407</td>\n",
       "      <td>4.597070e-08</td>\n",
       "      <td>-8.792922e-07</td>\n",
       "      <td>0.002460</td>\n",
       "      <td>0.002459</td>\n",
       "      <td>0.002460</td>\n",
       "      <td>1.019042</td>\n",
       "      <td>-0.119584</td>\n",
       "      <td>1.019040</td>\n",
       "      <td>-0.121373</td>\n",
       "      <td>0.688970</td>\n",
       "    </tr>\n",
       "  </tbody>\n",
       "</table>\n",
       "<p>71 rows × 14 columns</p>\n",
       "</div>"
      ],
      "text/plain": [
       "    p_from_mw  q_from_mvar   p_to_mw  q_to_mvar         pl_mw       ql_mvar  \\\n",
       "0    0.022107     0.017093 -0.022095  -0.017086  1.206629e-05  6.679499e-06   \n",
       "1    0.036748     0.028088 -0.036723  -0.028073  2.434135e-05  1.466829e-05   \n",
       "2   -0.004878     0.008694  0.004878  -0.008694  1.639111e-08  5.014227e-10   \n",
       "3    0.021635     0.043959 -0.021564  -0.043917  7.061590e-05  4.274408e-05   \n",
       "4    0.024742     0.052681 -0.024742  -0.052680  5.896649e-07  3.610881e-07   \n",
       "..        ...          ...       ...        ...           ...           ...   \n",
       "66   0.002210    -0.008826 -0.002208   0.008826  1.262425e-06 -1.131129e-07   \n",
       "67  -0.009403    -0.020625  0.009411   0.020629  7.841306e-06  4.030573e-06   \n",
       "68  -0.005380    -0.005790  0.005380   0.005789  9.527625e-07 -3.080618e-07   \n",
       "69  -0.004058    -0.002559  0.004059   0.002558  3.510629e-07 -6.870627e-07   \n",
       "70   0.001016    -0.001408 -0.001016   0.001407  4.597070e-08 -8.792922e-07   \n",
       "\n",
       "    i_from_ka   i_to_ka      i_ka  vm_from_pu  va_from_degree  vm_to_pu  \\\n",
       "0    0.039578  0.039579  0.039579    1.019097       -0.120611  1.018580   \n",
       "1    0.065884  0.065884  0.065884    1.013308       -0.090206  1.012681   \n",
       "2    0.014120  0.014120  0.014120    1.019032       -0.118049  1.019032   \n",
       "3    0.069586  0.069588  0.069588    1.016262       -0.018520  1.014788   \n",
       "4    0.082598  0.082598  0.082598    1.017062       -0.045050  1.017052   \n",
       "..        ...       ...       ...         ...             ...       ...   \n",
       "66   0.012887  0.012886  0.012887    1.018988       -0.112445  1.019040   \n",
       "67   0.032117  0.032116  0.032117    1.018692       -0.108521  1.019040   \n",
       "68   0.011196  0.011195  0.011196    1.018899       -0.119275  1.019040   \n",
       "69   0.006796  0.006795  0.006796    1.018952       -0.121371  1.019040   \n",
       "70   0.002460  0.002459  0.002460    1.019042       -0.119584  1.019040   \n",
       "\n",
       "    va_to_degree  loading_percent  \n",
       "0      -0.117803        11.086577  \n",
       "1      -0.086981        18.454933  \n",
       "2      -0.117937         3.955224  \n",
       "3       0.032681        19.492533  \n",
       "4      -0.044680        23.136610  \n",
       "..           ...              ...  \n",
       "66     -0.121373         3.609871  \n",
       "67     -0.121373         8.996425  \n",
       "68     -0.121373         3.136017  \n",
       "69     -0.121373         1.903629  \n",
       "70     -0.121373         0.688970  \n",
       "\n",
       "[71 rows x 14 columns]"
      ]
     },
     "execution_count": 37,
     "metadata": {},
     "output_type": "execute_result"
    }
   ],
   "source": [
    "net.res_line"
   ]
  },
  {
   "cell_type": "code",
   "execution_count": 38,
   "id": "312a71af-b6aa-4eb7-954d-bf3393868a0f",
   "metadata": {},
   "outputs": [
    {
     "data": {
      "text/html": [
       "<div>\n",
       "<style scoped>\n",
       "    .dataframe tbody tr th:only-of-type {\n",
       "        vertical-align: middle;\n",
       "    }\n",
       "\n",
       "    .dataframe tbody tr th {\n",
       "        vertical-align: top;\n",
       "    }\n",
       "\n",
       "    .dataframe thead th {\n",
       "        text-align: right;\n",
       "    }\n",
       "</style>\n",
       "<table border=\"1\" class=\"dataframe\">\n",
       "  <thead>\n",
       "    <tr style=\"text-align: right;\">\n",
       "      <th></th>\n",
       "      <th>p_hv_mw</th>\n",
       "      <th>q_hv_mvar</th>\n",
       "      <th>p_lv_mw</th>\n",
       "      <th>q_lv_mvar</th>\n",
       "      <th>pl_mw</th>\n",
       "      <th>ql_mvar</th>\n",
       "      <th>i_hv_ka</th>\n",
       "      <th>i_lv_ka</th>\n",
       "      <th>vm_hv_pu</th>\n",
       "      <th>va_hv_degree</th>\n",
       "      <th>vm_lv_pu</th>\n",
       "      <th>va_lv_degree</th>\n",
       "      <th>loading_percent</th>\n",
       "    </tr>\n",
       "  </thead>\n",
       "  <tbody>\n",
       "    <tr>\n",
       "      <th>0</th>\n",
       "      <td>0.035165</td>\n",
       "      <td>0.058279</td>\n",
       "      <td>-0.033366</td>\n",
       "      <td>-0.057856</td>\n",
       "      <td>0.001799</td>\n",
       "      <td>0.000423</td>\n",
       "      <td>0.001917</td>\n",
       "      <td>0.094593</td>\n",
       "      <td>1.025</td>\n",
       "      <td>0.0</td>\n",
       "      <td>1.019097</td>\n",
       "      <td>-0.120611</td>\n",
       "      <td>10.540643</td>\n",
       "    </tr>\n",
       "    <tr>\n",
       "      <th>1</th>\n",
       "      <td>0.035421</td>\n",
       "      <td>0.058861</td>\n",
       "      <td>-0.033620</td>\n",
       "      <td>-0.058431</td>\n",
       "      <td>0.001801</td>\n",
       "      <td>0.000430</td>\n",
       "      <td>0.001935</td>\n",
       "      <td>0.095484</td>\n",
       "      <td>1.025</td>\n",
       "      <td>0.0</td>\n",
       "      <td>1.019040</td>\n",
       "      <td>-0.121373</td>\n",
       "      <td>10.638300</td>\n",
       "    </tr>\n",
       "    <tr>\n",
       "      <th>2</th>\n",
       "      <td>0.035421</td>\n",
       "      <td>0.058861</td>\n",
       "      <td>-0.033620</td>\n",
       "      <td>-0.058431</td>\n",
       "      <td>0.001801</td>\n",
       "      <td>0.000430</td>\n",
       "      <td>0.001935</td>\n",
       "      <td>0.095484</td>\n",
       "      <td>1.025</td>\n",
       "      <td>0.0</td>\n",
       "      <td>1.019040</td>\n",
       "      <td>-0.121373</td>\n",
       "      <td>10.638300</td>\n",
       "    </tr>\n",
       "  </tbody>\n",
       "</table>\n",
       "</div>"
      ],
      "text/plain": [
       "    p_hv_mw  q_hv_mvar   p_lv_mw  q_lv_mvar     pl_mw   ql_mvar   i_hv_ka  \\\n",
       "0  0.035165   0.058279 -0.033366  -0.057856  0.001799  0.000423  0.001917   \n",
       "1  0.035421   0.058861 -0.033620  -0.058431  0.001801  0.000430  0.001935   \n",
       "2  0.035421   0.058861 -0.033620  -0.058431  0.001801  0.000430  0.001935   \n",
       "\n",
       "    i_lv_ka  vm_hv_pu  va_hv_degree  vm_lv_pu  va_lv_degree  loading_percent  \n",
       "0  0.094593     1.025           0.0  1.019097     -0.120611        10.540643  \n",
       "1  0.095484     1.025           0.0  1.019040     -0.121373        10.638300  \n",
       "2  0.095484     1.025           0.0  1.019040     -0.121373        10.638300  "
      ]
     },
     "execution_count": 38,
     "metadata": {},
     "output_type": "execute_result"
    }
   ],
   "source": [
    "net.res_trafo"
   ]
  },
  {
   "cell_type": "markdown",
   "id": "ba7166ed-3bd4-4f74-84b7-f3140b7c167d",
   "metadata": {},
   "source": [
    "## Checking againt constraints\n",
    "#### Check the line loadings capacity: "
   ]
  },
  {
   "cell_type": "code",
   "execution_count": 21,
   "id": "7e91a386-f3f3-4a2e-8ad8-dfb8a59fe730",
   "metadata": {},
   "outputs": [
    {
     "data": {
      "text/plain": [
       "Int64Index([], dtype='int64')"
      ]
     },
     "execution_count": 21,
     "metadata": {},
     "output_type": "execute_result"
    }
   ],
   "source": [
    "\n",
    "pp.overloaded_lines(net,max_load = 100)"
   ]
  },
  {
   "cell_type": "markdown",
   "id": "0d119bba-4a48-4a9e-b3f0-0e7eef767d53",
   "metadata": {},
   "source": [
    "#### Check the bus capacity \n",
    "Bus voltage limite: miminum voltage 0.9 pu, maximum voltage 1.1 pu "
   ]
  },
  {
   "cell_type": "code",
   "execution_count": 23,
   "id": "435e0e93-2943-413b-898a-1a1d928fa3c3",
   "metadata": {},
   "outputs": [
    {
     "data": {
      "text/plain": [
       "Int64Index([], dtype='int64')"
      ]
     },
     "execution_count": 23,
     "metadata": {},
     "output_type": "execute_result"
    }
   ],
   "source": [
    "pp.violated_buses(net, min_vm_pu=0.90, max_vm_pu = 1.1)"
   ]
  },
  {
   "cell_type": "markdown",
   "id": "3056c6c2-7f37-44f6-9cdf-279cc2dafc1b",
   "metadata": {},
   "source": [
    "##### Check Transformer capacity"
   ]
  },
  {
   "cell_type": "code",
   "execution_count": 41,
   "id": "4df72cd6-af89-4b61-b93d-a3770990685f",
   "metadata": {},
   "outputs": [
    {
     "name": "stdout",
     "output_type": "stream",
     "text": [
      "No violation\n",
      "No violation\n",
      "No violation\n"
     ]
    }
   ],
   "source": [
    "j=0\n",
    "while j<3:   \n",
    "    if net.res_trafo.loading_percent[j] > 100:\n",
    "        print ('Transformer limit violated')\n",
    "    else :\n",
    "        print ('No violation')\n",
    "    j+=1\n",
    "        "
   ]
  },
  {
   "cell_type": "code",
   "execution_count": 24,
   "id": "66bfc414-f6b8-47fb-ba95-5538b4a8e382",
   "metadata": {},
   "outputs": [],
   "source": [
    "import pandapower.plotting as plot"
   ]
  },
  {
   "cell_type": "code",
   "execution_count": 27,
   "id": "f4fbda9a-406e-460d-bcb8-4d422bbf344a",
   "metadata": {},
   "outputs": [],
   "source": [
    "%matplotlib inline "
   ]
  },
  {
   "cell_type": "code",
   "execution_count": 28,
   "id": "efc3c651-8a88-4377-9a0c-de1df6daa027",
   "metadata": {},
   "outputs": [],
   "source": [
    "cmap_list=[(20, \"green\"), (50, \"yellow\"), (60, \"red\")]\n",
    "cmap, norm = plot.cmap_continuous(cmap_list)"
   ]
  },
  {
   "cell_type": "code",
   "execution_count": 29,
   "id": "3b1a7678-09e1-47c9-ac09-10e6bd9292a4",
   "metadata": {},
   "outputs": [
    {
     "name": "stderr",
     "output_type": "stream",
     "text": [
      "use_bus_geodata is automatically set to True, since net.line_geodata is empty.\n"
     ]
    },
    {
     "data": {
      "text/plain": [
       "<AxesSubplot:>"
      ]
     },
     "execution_count": 29,
     "metadata": {},
     "output_type": "execute_result"
    },
    {
     "data": {
      "image/png": "[encoded data removed]",
      "text/plain": [
       "<Figure size 576x432 with 2 Axes>"
      ]
     },
     "metadata": {},
     "output_type": "display_data"
    }
   ],
   "source": [
    "lc = plot.create_line_collection(net, net.line.index, zorder=1, cmap=cmap, norm=norm, linewidths=2)\n",
    "plot.draw_collections([lc], figsize=(8,6))"
   ]
  },
  {
   "cell_type": "code",
   "execution_count": 31,
   "id": "cb352f7f-29d6-40dd-9a9c-7d1acf4edb21",
   "metadata": {},
   "outputs": [
    {
     "name": "stderr",
     "output_type": "stream",
     "text": [
      "use_bus_geodata is automatically set to True, since net.line_geodata is empty.\n"
     ]
    },
    {
     "data": {
      "text/plain": [
       "<AxesSubplot:>"
      ]
     },
     "execution_count": 31,
     "metadata": {},
     "output_type": "execute_result"
    },
    {
     "data": {
      "image/png": "[encoded data removed]",
      "text/plain": [
       "<Figure size 576x432 with 3 Axes>"
      ]
     },
     "metadata": {},
     "output_type": "display_data"
    }
   ],
   "source": [
    "cmap_list=[((0.975, 0.985), \"blue\"), ((0.985, 1.0), \"green\"), ((1.0, 1.03), \"red\")]\n",
    "cmap, norm = plot.cmap_discrete(cmap_list)\n",
    "bc = plot.create_bus_collection(net, net.bus.index, size=80, zorder=2, cmap=cmap, norm=norm)\n",
    "\n",
    "cmap_list=[((10, 40), \"green\"), ((40, 55), \"yellow\"), ((55, 60), \"red\")]\n",
    "cmap, norm = plot.cmap_discrete(cmap_list)\n",
    "lc = plot.create_line_collection(net, net.line.index, zorder=1, cmap=cmap, norm=norm, linewidths=2)\n",
    "plot.draw_collections([lc, bc], figsize=(8,6))"
   ]
  },
  {
   "cell_type": "code",
   "execution_count": null,
   "id": "1f9217e2-0343-4df4-95cb-5bcb0b0391ee",
   "metadata": {},
   "outputs": [],
   "source": []
  }
 ],
 "metadata": {
  "kernelspec": {
   "display_name": "Python 3 (ipykernel)",
   "language": "python",
   "name": "python3"
  },
  "language_info": {
   "codemirror_mode": {
    "name": "ipython",
    "version": 3
   },
   "file_extension": ".py",
   "mimetype": "text/x-python",
   "name": "python",
   "nbconvert_exporter": "python",
   "pygments_lexer": "ipython3",
   "version": "3.9.7"
  }
 },
 "nbformat": 4,
 "nbformat_minor": 5
}
